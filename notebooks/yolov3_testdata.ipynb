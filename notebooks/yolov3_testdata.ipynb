{
 "cells": [
  {
   "cell_type": "markdown",
   "metadata": {},
   "source": [
    "# **YOLOv3 Object Detection - mAP calculation**"
   ]
  },
  {
   "cell_type": "code",
   "execution_count": 1,
   "metadata": {},
   "outputs": [],
   "source": [
    "#!/usr/bin/env python3\n",
    "\n",
    "# YOLOv3\n",
    "# * Trained on COCO 2017 dataset.\n",
    "#\n",
    "# 2021 (c) Nicole Hölzl\n",
    "# 2021 (c) Micha Johannes Birklbauer\n",
    "# 2021 (c) The TensorFlow Authors\n",
    "#\n",
    "# https://github.com/t0xic-m/\n",
    "# micha.birklbauer@gmail.com\n",
    "\n",
    "import os\n",
    "import imageio\n",
    "import numpy as np\n",
    "from matplotlib import pyplot as plt"
   ]
  },
  {
   "cell_type": "markdown",
   "metadata": {},
   "source": [
    "## **Testing on our test sample**"
   ]
  },
  {
   "cell_type": "code",
   "execution_count": 2,
   "metadata": {},
   "outputs": [
    {
     "output_type": "execute_result",
     "data": {
      "text/plain": [
       "            NAME  xmin_pred  ymin_pred  xmax_pred  ymax_pred\n",
       "0  071718689.jpg        717        300       1024        624\n",
       "1  046808162.jpg        679         80        924        565\n",
       "2  065158590.jpg        499          1       1187        597\n",
       "3  007055006.jpg        278        102        431        265\n",
       "4  020584121.jpg        229          9        425        459"
      ],
      "text/html": "<div>\n<style scoped>\n    .dataframe tbody tr th:only-of-type {\n        vertical-align: middle;\n    }\n\n    .dataframe tbody tr th {\n        vertical-align: top;\n    }\n\n    .dataframe thead th {\n        text-align: right;\n    }\n</style>\n<table border=\"1\" class=\"dataframe\">\n  <thead>\n    <tr style=\"text-align: right;\">\n      <th></th>\n      <th>NAME</th>\n      <th>xmin_pred</th>\n      <th>ymin_pred</th>\n      <th>xmax_pred</th>\n      <th>ymax_pred</th>\n    </tr>\n  </thead>\n  <tbody>\n    <tr>\n      <th>0</th>\n      <td>071718689.jpg</td>\n      <td>717</td>\n      <td>300</td>\n      <td>1024</td>\n      <td>624</td>\n    </tr>\n    <tr>\n      <th>1</th>\n      <td>046808162.jpg</td>\n      <td>679</td>\n      <td>80</td>\n      <td>924</td>\n      <td>565</td>\n    </tr>\n    <tr>\n      <th>2</th>\n      <td>065158590.jpg</td>\n      <td>499</td>\n      <td>1</td>\n      <td>1187</td>\n      <td>597</td>\n    </tr>\n    <tr>\n      <th>3</th>\n      <td>007055006.jpg</td>\n      <td>278</td>\n      <td>102</td>\n      <td>431</td>\n      <td>265</td>\n    </tr>\n    <tr>\n      <th>4</th>\n      <td>020584121.jpg</td>\n      <td>229</td>\n      <td>9</td>\n      <td>425</td>\n      <td>459</td>\n    </tr>\n  </tbody>\n</table>\n</div>"
     },
     "metadata": {},
     "execution_count": 2
    }
   ],
   "source": [
    "import pandas as pd\n",
    "\n",
    "test_df = pd.read_csv(\"../data/results_yolo/test_human_pose_bbox.csv\")\n",
    "test_df.rename(columns={\"img_names\": \"NAME\", \"up_left_x\": \"xmin_pred\", \"up_left_y\": \"ymin_pred\", \"low_right_x\": \"xmax_pred\",\n",
    "    \"low_right_y\": \"ymax_pred\"}, inplace=True)\n",
    "test_df.head(5)"
   ]
  },
  {
   "cell_type": "code",
   "execution_count": 3,
   "metadata": {},
   "outputs": [
    {
     "output_type": "execute_result",
     "data": {
      "text/plain": [
       "            NAME   ymin    ymax   xmin    xmax\n",
       "0  002094496.jpg  266.0  1080.0  887.0  1686.0\n",
       "1  007055006.jpg  100.0   274.0  282.0   429.0\n",
       "2  007349675.jpg  226.0   437.0   87.0   361.0\n",
       "3  011151221.jpg   82.0   349.0  239.0   429.0\n",
       "4  018050712.jpg  147.0   984.0  573.0  1919.0"
      ],
      "text/html": "<div>\n<style scoped>\n    .dataframe tbody tr th:only-of-type {\n        vertical-align: middle;\n    }\n\n    .dataframe tbody tr th {\n        vertical-align: top;\n    }\n\n    .dataframe thead th {\n        text-align: right;\n    }\n</style>\n<table border=\"1\" class=\"dataframe\">\n  <thead>\n    <tr style=\"text-align: right;\">\n      <th></th>\n      <th>NAME</th>\n      <th>ymin</th>\n      <th>ymax</th>\n      <th>xmin</th>\n      <th>xmax</th>\n    </tr>\n  </thead>\n  <tbody>\n    <tr>\n      <th>0</th>\n      <td>002094496.jpg</td>\n      <td>266.0</td>\n      <td>1080.0</td>\n      <td>887.0</td>\n      <td>1686.0</td>\n    </tr>\n    <tr>\n      <th>1</th>\n      <td>007055006.jpg</td>\n      <td>100.0</td>\n      <td>274.0</td>\n      <td>282.0</td>\n      <td>429.0</td>\n    </tr>\n    <tr>\n      <th>2</th>\n      <td>007349675.jpg</td>\n      <td>226.0</td>\n      <td>437.0</td>\n      <td>87.0</td>\n      <td>361.0</td>\n    </tr>\n    <tr>\n      <th>3</th>\n      <td>011151221.jpg</td>\n      <td>82.0</td>\n      <td>349.0</td>\n      <td>239.0</td>\n      <td>429.0</td>\n    </tr>\n    <tr>\n      <th>4</th>\n      <td>018050712.jpg</td>\n      <td>147.0</td>\n      <td>984.0</td>\n      <td>573.0</td>\n      <td>1919.0</td>\n    </tr>\n  </tbody>\n</table>\n</div>"
     },
     "metadata": {},
     "execution_count": 3
    }
   ],
   "source": [
    "ground_truth_df = pd.read_csv(\"../data/samples_test.csv\")\n",
    "ground_truth_df.head(5)"
   ]
  },
  {
   "cell_type": "code",
   "execution_count": 4,
   "metadata": {},
   "outputs": [
    {
     "output_type": "execute_result",
     "data": {
      "text/plain": [
       "            NAME   ymin    ymax   xmin    xmax  xmin_pred  ymin_pred  \\\n",
       "0  002094496.jpg  266.0  1080.0  887.0  1686.0        912        278   \n",
       "1  007055006.jpg  100.0   274.0  282.0   429.0        278        102   \n",
       "2  007349675.jpg  226.0   437.0   87.0   361.0        100        219   \n",
       "3  011151221.jpg   82.0   349.0  239.0   429.0        222         83   \n",
       "4  018050712.jpg  147.0   984.0  573.0  1919.0        526        158   \n",
       "\n",
       "   xmax_pred  ymax_pred  \n",
       "0       1681       1025  \n",
       "1        431        265  \n",
       "2        368        438  \n",
       "3        389        346  \n",
       "4       1928        974  "
      ],
      "text/html": "<div>\n<style scoped>\n    .dataframe tbody tr th:only-of-type {\n        vertical-align: middle;\n    }\n\n    .dataframe tbody tr th {\n        vertical-align: top;\n    }\n\n    .dataframe thead th {\n        text-align: right;\n    }\n</style>\n<table border=\"1\" class=\"dataframe\">\n  <thead>\n    <tr style=\"text-align: right;\">\n      <th></th>\n      <th>NAME</th>\n      <th>ymin</th>\n      <th>ymax</th>\n      <th>xmin</th>\n      <th>xmax</th>\n      <th>xmin_pred</th>\n      <th>ymin_pred</th>\n      <th>xmax_pred</th>\n      <th>ymax_pred</th>\n    </tr>\n  </thead>\n  <tbody>\n    <tr>\n      <th>0</th>\n      <td>002094496.jpg</td>\n      <td>266.0</td>\n      <td>1080.0</td>\n      <td>887.0</td>\n      <td>1686.0</td>\n      <td>912</td>\n      <td>278</td>\n      <td>1681</td>\n      <td>1025</td>\n    </tr>\n    <tr>\n      <th>1</th>\n      <td>007055006.jpg</td>\n      <td>100.0</td>\n      <td>274.0</td>\n      <td>282.0</td>\n      <td>429.0</td>\n      <td>278</td>\n      <td>102</td>\n      <td>431</td>\n      <td>265</td>\n    </tr>\n    <tr>\n      <th>2</th>\n      <td>007349675.jpg</td>\n      <td>226.0</td>\n      <td>437.0</td>\n      <td>87.0</td>\n      <td>361.0</td>\n      <td>100</td>\n      <td>219</td>\n      <td>368</td>\n      <td>438</td>\n    </tr>\n    <tr>\n      <th>3</th>\n      <td>011151221.jpg</td>\n      <td>82.0</td>\n      <td>349.0</td>\n      <td>239.0</td>\n      <td>429.0</td>\n      <td>222</td>\n      <td>83</td>\n      <td>389</td>\n      <td>346</td>\n    </tr>\n    <tr>\n      <th>4</th>\n      <td>018050712.jpg</td>\n      <td>147.0</td>\n      <td>984.0</td>\n      <td>573.0</td>\n      <td>1919.0</td>\n      <td>526</td>\n      <td>158</td>\n      <td>1928</td>\n      <td>974</td>\n    </tr>\n  </tbody>\n</table>\n</div>"
     },
     "metadata": {},
     "execution_count": 4
    }
   ],
   "source": [
    "result = pd.merge(ground_truth_df,\n",
    "                 test_df,\n",
    "                 on='NAME')\n",
    "result.head()"
   ]
  },
  {
   "cell_type": "code",
   "execution_count": 5,
   "metadata": {},
   "outputs": [
    {
     "output_type": "execute_result",
     "data": {
      "text/plain": [
       "(49, 9)"
      ]
     },
     "metadata": {},
     "execution_count": 5
    }
   ],
   "source": [
    "result.shape"
   ]
  },
  {
   "cell_type": "code",
   "execution_count": 6,
   "metadata": {},
   "outputs": [],
   "source": [
    "result.to_csv(\"yolo_results/samples_test_pred.csv\", index = False)"
   ]
  },
  {
   "cell_type": "markdown",
   "metadata": {},
   "source": [
    "## **Calculating mAP**"
   ]
  },
  {
   "cell_type": "code",
   "execution_count": 7,
   "metadata": {},
   "outputs": [
    {
     "output_type": "execute_result",
     "data": {
      "text/plain": [
       "            NAME   ymin    ymax   xmin    xmax  xmin_pred  ymin_pred  \\\n",
       "0  002094496.jpg  266.0  1080.0  887.0  1686.0        912        278   \n",
       "1  007055006.jpg  100.0   274.0  282.0   429.0        278        102   \n",
       "2  007349675.jpg  226.0   437.0   87.0   361.0        100        219   \n",
       "3  011151221.jpg   82.0   349.0  239.0   429.0        222         83   \n",
       "4  018050712.jpg  147.0   984.0  573.0  1919.0        526        158   \n",
       "\n",
       "   xmax_pred  ymax_pred       IoU  \n",
       "0       1681       1025  0.883374  \n",
       "1        431        265  0.902842  \n",
       "2        368        438  0.896797  \n",
       "3        389        346  0.716000  \n",
       "4       1928        974  0.936963  "
      ],
      "text/html": "<div>\n<style scoped>\n    .dataframe tbody tr th:only-of-type {\n        vertical-align: middle;\n    }\n\n    .dataframe tbody tr th {\n        vertical-align: top;\n    }\n\n    .dataframe thead th {\n        text-align: right;\n    }\n</style>\n<table border=\"1\" class=\"dataframe\">\n  <thead>\n    <tr style=\"text-align: right;\">\n      <th></th>\n      <th>NAME</th>\n      <th>ymin</th>\n      <th>ymax</th>\n      <th>xmin</th>\n      <th>xmax</th>\n      <th>xmin_pred</th>\n      <th>ymin_pred</th>\n      <th>xmax_pred</th>\n      <th>ymax_pred</th>\n      <th>IoU</th>\n    </tr>\n  </thead>\n  <tbody>\n    <tr>\n      <th>0</th>\n      <td>002094496.jpg</td>\n      <td>266.0</td>\n      <td>1080.0</td>\n      <td>887.0</td>\n      <td>1686.0</td>\n      <td>912</td>\n      <td>278</td>\n      <td>1681</td>\n      <td>1025</td>\n      <td>0.883374</td>\n    </tr>\n    <tr>\n      <th>1</th>\n      <td>007055006.jpg</td>\n      <td>100.0</td>\n      <td>274.0</td>\n      <td>282.0</td>\n      <td>429.0</td>\n      <td>278</td>\n      <td>102</td>\n      <td>431</td>\n      <td>265</td>\n      <td>0.902842</td>\n    </tr>\n    <tr>\n      <th>2</th>\n      <td>007349675.jpg</td>\n      <td>226.0</td>\n      <td>437.0</td>\n      <td>87.0</td>\n      <td>361.0</td>\n      <td>100</td>\n      <td>219</td>\n      <td>368</td>\n      <td>438</td>\n      <td>0.896797</td>\n    </tr>\n    <tr>\n      <th>3</th>\n      <td>011151221.jpg</td>\n      <td>82.0</td>\n      <td>349.0</td>\n      <td>239.0</td>\n      <td>429.0</td>\n      <td>222</td>\n      <td>83</td>\n      <td>389</td>\n      <td>346</td>\n      <td>0.716000</td>\n    </tr>\n    <tr>\n      <th>4</th>\n      <td>018050712.jpg</td>\n      <td>147.0</td>\n      <td>984.0</td>\n      <td>573.0</td>\n      <td>1919.0</td>\n      <td>526</td>\n      <td>158</td>\n      <td>1928</td>\n      <td>974</td>\n      <td>0.936963</td>\n    </tr>\n  </tbody>\n</table>\n</div>"
     },
     "metadata": {},
     "execution_count": 7
    }
   ],
   "source": [
    "# implementation according to: https://datanics.blogspot.com/2020/11/understanding-mean-average-precision.html\n",
    "\n",
    "# jaccard index\n",
    "def IoU(df):\n",
    "    # determining the minimum and maximum -coordinates of the intersection rectangle\n",
    "    xmin_inter = max(df[\"xmin\"], df[\"xmin_pred\"])\n",
    "    ymin_inter = max(df[\"ymin\"], df[\"ymin_pred\"])\n",
    "    xmax_inter = min(df[\"xmax\"], df[\"xmax_pred\"])\n",
    "    ymax_inter = min(df[\"ymax\"], df[\"ymax_pred\"])\n",
    " \n",
    "    # calculate area of intersection rectangle\n",
    "    inter_area = max(0, xmax_inter - xmin_inter + 1) * max(0, ymax_inter - ymin_inter + 1)\n",
    " \n",
    "    # calculate area of actual and predicted boxes\n",
    "    actual_area = (df[\"xmax\"] - df[\"xmin\"] + 1) * (df[\"ymax\"] - df[\"ymin\"] + 1)\n",
    "    pred_area = (df[\"xmax_pred\"] - df[\"xmin_pred\"] + 1) * (df[\"ymax_pred\"] - df[\"ymin_pred\"] + 1)\n",
    " \n",
    "    # computing intersection over union\n",
    "    iou = inter_area / float(actual_area + pred_area - inter_area)\n",
    " \n",
    "    # return the intersection over union value\n",
    "    return iou\n",
    "\n",
    "result[\"IoU\"] = result.apply(IoU, axis = 1)\n",
    "result.head()"
   ]
  },
  {
   "cell_type": "code",
   "execution_count": 8,
   "metadata": {},
   "outputs": [
    {
     "output_type": "execute_result",
     "data": {
      "text/plain": [
       "            NAME   ymin    ymax   xmin    xmax  xmin_pred  ymin_pred  \\\n",
       "0  002094496.jpg  266.0  1080.0  887.0  1686.0        912        278   \n",
       "1  007055006.jpg  100.0   274.0  282.0   429.0        278        102   \n",
       "2  007349675.jpg  226.0   437.0   87.0   361.0        100        219   \n",
       "3  011151221.jpg   82.0   349.0  239.0   429.0        222         83   \n",
       "4  018050712.jpg  147.0   984.0  573.0  1919.0        526        158   \n",
       "\n",
       "   xmax_pred  ymax_pred       IoU TP/FP  \n",
       "0       1681       1025  0.883374    TP  \n",
       "1        431        265  0.902842    TP  \n",
       "2        368        438  0.896797    TP  \n",
       "3        389        346  0.716000    TP  \n",
       "4       1928        974  0.936963    TP  "
      ],
      "text/html": "<div>\n<style scoped>\n    .dataframe tbody tr th:only-of-type {\n        vertical-align: middle;\n    }\n\n    .dataframe tbody tr th {\n        vertical-align: top;\n    }\n\n    .dataframe thead th {\n        text-align: right;\n    }\n</style>\n<table border=\"1\" class=\"dataframe\">\n  <thead>\n    <tr style=\"text-align: right;\">\n      <th></th>\n      <th>NAME</th>\n      <th>ymin</th>\n      <th>ymax</th>\n      <th>xmin</th>\n      <th>xmax</th>\n      <th>xmin_pred</th>\n      <th>ymin_pred</th>\n      <th>xmax_pred</th>\n      <th>ymax_pred</th>\n      <th>IoU</th>\n      <th>TP/FP</th>\n    </tr>\n  </thead>\n  <tbody>\n    <tr>\n      <th>0</th>\n      <td>002094496.jpg</td>\n      <td>266.0</td>\n      <td>1080.0</td>\n      <td>887.0</td>\n      <td>1686.0</td>\n      <td>912</td>\n      <td>278</td>\n      <td>1681</td>\n      <td>1025</td>\n      <td>0.883374</td>\n      <td>TP</td>\n    </tr>\n    <tr>\n      <th>1</th>\n      <td>007055006.jpg</td>\n      <td>100.0</td>\n      <td>274.0</td>\n      <td>282.0</td>\n      <td>429.0</td>\n      <td>278</td>\n      <td>102</td>\n      <td>431</td>\n      <td>265</td>\n      <td>0.902842</td>\n      <td>TP</td>\n    </tr>\n    <tr>\n      <th>2</th>\n      <td>007349675.jpg</td>\n      <td>226.0</td>\n      <td>437.0</td>\n      <td>87.0</td>\n      <td>361.0</td>\n      <td>100</td>\n      <td>219</td>\n      <td>368</td>\n      <td>438</td>\n      <td>0.896797</td>\n      <td>TP</td>\n    </tr>\n    <tr>\n      <th>3</th>\n      <td>011151221.jpg</td>\n      <td>82.0</td>\n      <td>349.0</td>\n      <td>239.0</td>\n      <td>429.0</td>\n      <td>222</td>\n      <td>83</td>\n      <td>389</td>\n      <td>346</td>\n      <td>0.716000</td>\n      <td>TP</td>\n    </tr>\n    <tr>\n      <th>4</th>\n      <td>018050712.jpg</td>\n      <td>147.0</td>\n      <td>984.0</td>\n      <td>573.0</td>\n      <td>1919.0</td>\n      <td>526</td>\n      <td>158</td>\n      <td>1928</td>\n      <td>974</td>\n      <td>0.936963</td>\n      <td>TP</td>\n    </tr>\n  </tbody>\n</table>\n</div>"
     },
     "metadata": {},
     "execution_count": 8
    }
   ],
   "source": [
    "# creating column 'TP/FP' which will store TP for True positive and FP for False positive\n",
    "# if IOU is greater than 0.5 then TP else FP\n",
    "result[\"TP/FP\"] = result[\"IoU\"].apply(lambda x: \"TP\" if x >= 0.5 else \"FP\")\n",
    "result.head()"
   ]
  },
  {
   "cell_type": "code",
   "execution_count": 9,
   "metadata": {},
   "outputs": [
    {
     "output_type": "execute_result",
     "data": {
      "text/plain": [
       "            NAME   ymin    ymax   xmin    xmax  xmin_pred  ymin_pred  \\\n",
       "0  002094496.jpg  266.0  1080.0  887.0  1686.0        912        278   \n",
       "1  007055006.jpg  100.0   274.0  282.0   429.0        278        102   \n",
       "2  007349675.jpg  226.0   437.0   87.0   361.0        100        219   \n",
       "3  011151221.jpg   82.0   349.0  239.0   429.0        222         83   \n",
       "4  018050712.jpg  147.0   984.0  573.0  1919.0        526        158   \n",
       "\n",
       "   xmax_pred  ymax_pred       IoU TP/FP  Precision    Recall  \n",
       "0       1681       1025  0.883374    TP        1.0  0.020000  \n",
       "1        431        265  0.902842    TP        1.0  0.039216  \n",
       "2        368        438  0.896797    TP        1.0  0.057692  \n",
       "3        389        346  0.716000    TP        1.0  0.075472  \n",
       "4       1928        974  0.936963    TP        1.0  0.092593  "
      ],
      "text/html": "<div>\n<style scoped>\n    .dataframe tbody tr th:only-of-type {\n        vertical-align: middle;\n    }\n\n    .dataframe tbody tr th {\n        vertical-align: top;\n    }\n\n    .dataframe thead th {\n        text-align: right;\n    }\n</style>\n<table border=\"1\" class=\"dataframe\">\n  <thead>\n    <tr style=\"text-align: right;\">\n      <th></th>\n      <th>NAME</th>\n      <th>ymin</th>\n      <th>ymax</th>\n      <th>xmin</th>\n      <th>xmax</th>\n      <th>xmin_pred</th>\n      <th>ymin_pred</th>\n      <th>xmax_pred</th>\n      <th>ymax_pred</th>\n      <th>IoU</th>\n      <th>TP/FP</th>\n      <th>Precision</th>\n      <th>Recall</th>\n    </tr>\n  </thead>\n  <tbody>\n    <tr>\n      <th>0</th>\n      <td>002094496.jpg</td>\n      <td>266.0</td>\n      <td>1080.0</td>\n      <td>887.0</td>\n      <td>1686.0</td>\n      <td>912</td>\n      <td>278</td>\n      <td>1681</td>\n      <td>1025</td>\n      <td>0.883374</td>\n      <td>TP</td>\n      <td>1.0</td>\n      <td>0.020000</td>\n    </tr>\n    <tr>\n      <th>1</th>\n      <td>007055006.jpg</td>\n      <td>100.0</td>\n      <td>274.0</td>\n      <td>282.0</td>\n      <td>429.0</td>\n      <td>278</td>\n      <td>102</td>\n      <td>431</td>\n      <td>265</td>\n      <td>0.902842</td>\n      <td>TP</td>\n      <td>1.0</td>\n      <td>0.039216</td>\n    </tr>\n    <tr>\n      <th>2</th>\n      <td>007349675.jpg</td>\n      <td>226.0</td>\n      <td>437.0</td>\n      <td>87.0</td>\n      <td>361.0</td>\n      <td>100</td>\n      <td>219</td>\n      <td>368</td>\n      <td>438</td>\n      <td>0.896797</td>\n      <td>TP</td>\n      <td>1.0</td>\n      <td>0.057692</td>\n    </tr>\n    <tr>\n      <th>3</th>\n      <td>011151221.jpg</td>\n      <td>82.0</td>\n      <td>349.0</td>\n      <td>239.0</td>\n      <td>429.0</td>\n      <td>222</td>\n      <td>83</td>\n      <td>389</td>\n      <td>346</td>\n      <td>0.716000</td>\n      <td>TP</td>\n      <td>1.0</td>\n      <td>0.075472</td>\n    </tr>\n    <tr>\n      <th>4</th>\n      <td>018050712.jpg</td>\n      <td>147.0</td>\n      <td>984.0</td>\n      <td>573.0</td>\n      <td>1919.0</td>\n      <td>526</td>\n      <td>158</td>\n      <td>1928</td>\n      <td>974</td>\n      <td>0.936963</td>\n      <td>TP</td>\n      <td>1.0</td>\n      <td>0.092593</td>\n    </tr>\n  </tbody>\n</table>\n</div>"
     },
     "metadata": {},
     "execution_count": 9
    }
   ],
   "source": [
    "# calculating Precision and recall\n",
    "Precision = []\n",
    "Recall = []\n",
    "\n",
    "TP = FP = 0\n",
    "FN = len(result[\"TP/FP\"] == \"TP\")\n",
    "for index , row in result.iterrows():     \n",
    "    if row[\"IoU\"] > 0.5:\n",
    "        TP = TP + 1\n",
    "    else:\n",
    "        FP = FP + 1    \n",
    "\n",
    "    try:\n",
    "        AP = TP / (TP + FP)\n",
    "        Rec = TP / (TP + FN)\n",
    "    except ZeroDivisionError:\n",
    "        AP = Recall = 0.0\n",
    "    \n",
    "    Precision.append(AP)\n",
    "    Recall.append(Rec)\n",
    "\n",
    "\n",
    "result[\"Precision\"] = Precision\n",
    "result[\"Recall\"] = Recall\n",
    "\n",
    "result.head()"
   ]
  },
  {
   "cell_type": "code",
   "execution_count": 10,
   "metadata": {},
   "outputs": [
    {
     "output_type": "execute_result",
     "data": {
      "text/plain": [
       "            NAME   ymin    ymax   xmin    xmax  xmin_pred  ymin_pred  \\\n",
       "0  002094496.jpg  266.0  1080.0  887.0  1686.0        912        278   \n",
       "1  007055006.jpg  100.0   274.0  282.0   429.0        278        102   \n",
       "2  007349675.jpg  226.0   437.0   87.0   361.0        100        219   \n",
       "3  011151221.jpg   82.0   349.0  239.0   429.0        222         83   \n",
       "4  018050712.jpg  147.0   984.0  573.0  1919.0        526        158   \n",
       "\n",
       "   xmax_pred  ymax_pred       IoU TP/FP  Precision    Recall  \\\n",
       "0       1681       1025  0.883374    TP        1.0  0.020000   \n",
       "1        431        265  0.902842    TP        1.0  0.039216   \n",
       "2        368        438  0.896797    TP        1.0  0.057692   \n",
       "3        389        346  0.716000    TP        1.0  0.075472   \n",
       "4       1928        974  0.936963    TP        1.0  0.092593   \n",
       "\n",
       "   Precision_interpol  \n",
       "0                 1.0  \n",
       "1                 1.0  \n",
       "2                 1.0  \n",
       "3                 1.0  \n",
       "4                 1.0  "
      ],
      "text/html": "<div>\n<style scoped>\n    .dataframe tbody tr th:only-of-type {\n        vertical-align: middle;\n    }\n\n    .dataframe tbody tr th {\n        vertical-align: top;\n    }\n\n    .dataframe thead th {\n        text-align: right;\n    }\n</style>\n<table border=\"1\" class=\"dataframe\">\n  <thead>\n    <tr style=\"text-align: right;\">\n      <th></th>\n      <th>NAME</th>\n      <th>ymin</th>\n      <th>ymax</th>\n      <th>xmin</th>\n      <th>xmax</th>\n      <th>xmin_pred</th>\n      <th>ymin_pred</th>\n      <th>xmax_pred</th>\n      <th>ymax_pred</th>\n      <th>IoU</th>\n      <th>TP/FP</th>\n      <th>Precision</th>\n      <th>Recall</th>\n      <th>Precision_interpol</th>\n    </tr>\n  </thead>\n  <tbody>\n    <tr>\n      <th>0</th>\n      <td>002094496.jpg</td>\n      <td>266.0</td>\n      <td>1080.0</td>\n      <td>887.0</td>\n      <td>1686.0</td>\n      <td>912</td>\n      <td>278</td>\n      <td>1681</td>\n      <td>1025</td>\n      <td>0.883374</td>\n      <td>TP</td>\n      <td>1.0</td>\n      <td>0.020000</td>\n      <td>1.0</td>\n    </tr>\n    <tr>\n      <th>1</th>\n      <td>007055006.jpg</td>\n      <td>100.0</td>\n      <td>274.0</td>\n      <td>282.0</td>\n      <td>429.0</td>\n      <td>278</td>\n      <td>102</td>\n      <td>431</td>\n      <td>265</td>\n      <td>0.902842</td>\n      <td>TP</td>\n      <td>1.0</td>\n      <td>0.039216</td>\n      <td>1.0</td>\n    </tr>\n    <tr>\n      <th>2</th>\n      <td>007349675.jpg</td>\n      <td>226.0</td>\n      <td>437.0</td>\n      <td>87.0</td>\n      <td>361.0</td>\n      <td>100</td>\n      <td>219</td>\n      <td>368</td>\n      <td>438</td>\n      <td>0.896797</td>\n      <td>TP</td>\n      <td>1.0</td>\n      <td>0.057692</td>\n      <td>1.0</td>\n    </tr>\n    <tr>\n      <th>3</th>\n      <td>011151221.jpg</td>\n      <td>82.0</td>\n      <td>349.0</td>\n      <td>239.0</td>\n      <td>429.0</td>\n      <td>222</td>\n      <td>83</td>\n      <td>389</td>\n      <td>346</td>\n      <td>0.716000</td>\n      <td>TP</td>\n      <td>1.0</td>\n      <td>0.075472</td>\n      <td>1.0</td>\n    </tr>\n    <tr>\n      <th>4</th>\n      <td>018050712.jpg</td>\n      <td>147.0</td>\n      <td>984.0</td>\n      <td>573.0</td>\n      <td>1919.0</td>\n      <td>526</td>\n      <td>158</td>\n      <td>1928</td>\n      <td>974</td>\n      <td>0.936963</td>\n      <td>TP</td>\n      <td>1.0</td>\n      <td>0.092593</td>\n      <td>1.0</td>\n    </tr>\n  </tbody>\n</table>\n</div>"
     },
     "metadata": {},
     "execution_count": 10
    }
   ],
   "source": [
    "#calculating Interpolated Precision\n",
    "result[\"Precision_interpol\"] = result.groupby(\"Recall\")[\"Precision\"].transform(\"max\")\n",
    "result.head()"
   ]
  },
  {
   "cell_type": "code",
   "execution_count": 11,
   "metadata": {},
   "outputs": [
    {
     "output_type": "stream",
     "name": "stdout",
     "text": [
      "11 point precision is  [1.0, 1.0, 1.0, 1.0, 1.0, 1.0, 0.0, 0.0, 0.0, 0.0, 0.0]\nmAP is  0.5454545454545454\n"
     ]
    }
   ],
   "source": [
    "prec_at_rec = []\n",
    "\n",
    "for recall_level in np.linspace(0.0, 1.0, 11):\n",
    "    try:\n",
    "        x = result[result[\"Recall\"] >= recall_level][\"Precision\"]\n",
    "        prec = max(x)\n",
    "    except:\n",
    "        prec = 0.0\n",
    "    prec_at_rec.append(prec)\n",
    "avg_prec = np.mean(prec_at_rec)\n",
    "print(\"11 point precision is \", prec_at_rec)\n",
    "print(\"mAP is \", avg_prec)"
   ]
  },
  {
   "cell_type": "code",
   "execution_count": 12,
   "metadata": {},
   "outputs": [],
   "source": [
    "result.to_csv(\"yolo_results/samples_test_pred2.csv\", index = False)"
   ]
  },
  {
   "cell_type": "code",
   "execution_count": null,
   "metadata": {},
   "outputs": [],
   "source": []
  }
 ],
 "metadata": {
  "kernelspec": {
   "display_name": "Python 3",
   "language": "python",
   "name": "python3"
  },
  "language_info": {
   "codemirror_mode": {
    "name": "ipython",
    "version": 3
   },
   "file_extension": ".py",
   "mimetype": "text/x-python",
   "name": "python",
   "nbconvert_exporter": "python",
   "pygments_lexer": "ipython3",
   "version": "3.8.5-final"
  }
 },
 "nbformat": 4,
 "nbformat_minor": 4
}